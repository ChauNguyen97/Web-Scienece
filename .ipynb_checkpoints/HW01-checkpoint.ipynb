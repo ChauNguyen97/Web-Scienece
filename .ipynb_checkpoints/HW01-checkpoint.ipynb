{
 "cells": [
  {
   "cell_type": "code",
   "execution_count": null,
   "metadata": {},
   "outputs": [],
   "source": [
    "!pip install selenium\n",
    "!pip install html5lib\n",
    "!pip install python-csv"
   ]
  },
  {
   "cell_type": "code",
   "execution_count": 1,
   "metadata": {},
   "outputs": [],
   "source": [
    "# Thêm thư viện cho project\n",
    "from selenium import webdriver\n",
    "from selenium.webdriver.common.keys import Keys\n",
    "from time import sleep\n",
    "from bs4 import BeautifulSoup\n"
   ]
  },
  {
   "cell_type": "code",
   "execution_count": 21,
   "metadata": {},
   "outputs": [],
   "source": [
    "URL = 'https://www.imdb.com'\n",
    "anime_name = 'anime'\n",
    "# Thao tác trên webdriver\n",
    "browser = webdriver.Chrome(executable_path='chromedriver.exe')\n",
    "browser.get(URL)\n",
    "browser.maximize_window()\n",
    "sleep(3)\n",
    "\n",
    "search_input = browser.find_element_by_id('suggestion-search')\n",
    "search_input.send_keys(anime_name)\n",
    "search_keyword = browser.find_element_by_css_selector('#nav-search-form > div.SearchCategorySelector__StyledContainer-sc-18f40f7-0.fEgMct.search-category-selector > div > label > div')\n",
    "search_keyword.click()\n",
    "sleep(3)\n",
    "\n",
    "search_keyword = browser.find_element_by_xpath('//*[@id=\"navbar-search-category-select-contents\"]/ul/a[6]')\n",
    "search_keyword.click()\n",
    "search_keyword = browser.find_element_by_id('suggestion-search-button')\n",
    "search_keyword.click()\n",
    "sleep(3)\n",
    "\n",
    "submit_element = browser.find_element_by_css_selector('#main > div > div.findSection > table > tbody > tr:nth-child(1) > td > a')\n",
    "submit_element.click()\n",
    "sleep(3)\n",
    "\n",
    "# Lấy link để lấy dữ liệu\n",
    "page_source = BeautifulSoup(browser.page_source, 'html.parser')\n",
    "list_anime = page_source.find_all('h3', class_='lister-item-header'})\n",
    "records = [] \n",
    "for anime in list_anime:\n",
    "    name = anime.find('a', href=True)\n",
    "    anime_id = name.get('href')\n",
    "    anime_links = URL + anime_id\n",
    "    records.append(anime_links)\n",
    "print(records)"
   ]
  },
  {
   "cell_type": "code",
   "execution_count": 22,
   "metadata": {},
   "outputs": [
    {
     "name": "stdout",
     "output_type": "stream",
     "text": [
      "['https://www.imdb.com/title/tt2560140/?ref_=kw_li_tt', 'https://www.imdb.com/title/tt9335498/?ref_=kw_li_tt', 'https://www.imdb.com/title/tt0388629/?ref_=kw_li_tt', 'https://www.imdb.com/title/tt13622982/?ref_=kw_li_tt', 'https://www.imdb.com/title/tt5626028/?ref_=kw_li_tt', 'https://www.imdb.com/title/tt6342474/?ref_=kw_li_tt', 'https://www.imdb.com/title/tt0988824/?ref_=kw_li_tt', 'https://www.imdb.com/title/tt11032374/?ref_=kw_li_tt', 'https://www.imdb.com/title/tt11819890/?ref_=kw_li_tt', 'https://www.imdb.com/title/tt13196080/?ref_=kw_li_tt', 'https://www.imdb.com/title/tt0877057/?ref_=kw_li_tt', 'https://www.imdb.com/title/tt0409591/?ref_=kw_li_tt', 'https://www.imdb.com/title/tt2098220/?ref_=kw_li_tt', 'https://www.imdb.com/title/tt0245429/?ref_=kw_li_tt', 'https://www.imdb.com/title/tt12343534/?ref_=kw_li_tt', 'https://www.imdb.com/title/tt6517102/?ref_=kw_li_tt', 'https://www.imdb.com/title/tt7441658/?ref_=kw_li_tt', 'https://www.imdb.com/title/tt1355642/?ref_=kw_li_tt', 'https://www.imdb.com/title/tt2359704/?ref_=kw_li_tt', 'https://www.imdb.com/title/tt0213338/?ref_=kw_li_tt', 'https://www.imdb.com/title/tt4508902/?ref_=kw_li_tt', 'https://www.imdb.com/title/tt13544716/?ref_=kw_li_tt', 'https://www.imdb.com/title/tt5311514/?ref_=kw_li_tt', 'https://www.imdb.com/title/tt11657662/?ref_=kw_li_tt', 'https://www.imdb.com/title/tt3909224/?ref_=kw_li_tt', 'https://www.imdb.com/title/tt13357140/?ref_=kw_li_tt', 'https://www.imdb.com/title/tt0347149/?ref_=kw_li_tt', 'https://www.imdb.com/title/tt3398540/?ref_=kw_li_tt', 'https://www.imdb.com/title/tt2230051/?ref_=kw_li_tt', 'https://www.imdb.com/title/tt14935960/?ref_=kw_li_tt', 'https://www.imdb.com/title/tt14837960/?ref_=kw_li_tt', 'https://www.imdb.com/title/tt13293588/?ref_=kw_li_tt', 'https://www.imdb.com/title/tt10233448/?ref_=kw_li_tt', 'https://www.imdb.com/title/tt6357658/?ref_=kw_li_tt', 'https://www.imdb.com/title/tt10826054/?ref_=kw_li_tt', 'https://www.imdb.com/title/tt14115912/?ref_=kw_li_tt', 'https://www.imdb.com/title/tt7078180/?ref_=kw_li_tt', 'https://www.imdb.com/title/tt0434665/?ref_=kw_li_tt', 'https://www.imdb.com/title/tt0095327/?ref_=kw_li_tt', 'https://www.imdb.com/title/tt0214341/?ref_=kw_li_tt', 'https://www.imdb.com/title/tt0168366/?ref_=kw_li_tt', 'https://www.imdb.com/title/tt0119698/?ref_=kw_li_tt', 'https://www.imdb.com/title/tt0112159/?ref_=kw_li_tt', 'https://www.imdb.com/title/tt0988818/?ref_=kw_li_tt', 'https://www.imdb.com/title/tt0994314/?ref_=kw_li_tt', 'https://www.imdb.com/title/tt8788458/?ref_=kw_li_tt', 'https://www.imdb.com/title/tt5323662/?ref_=kw_li_tt', 'https://www.imdb.com/title/tt3741634/?ref_=kw_li_tt', 'https://www.imdb.com/title/tt13651628/?ref_=kw_li_tt', 'https://www.imdb.com/title/tt0318871/?ref_=kw_li_tt']\n"
     ]
    }
   ],
   "source": []
  },
  {
   "cell_type": "code",
   "execution_count": null,
   "metadata": {},
   "outputs": [],
   "source": []
  },
  {
   "cell_type": "code",
   "execution_count": null,
   "metadata": {},
   "outputs": [],
   "source": []
  },
  {
   "cell_type": "code",
   "execution_count": null,
   "metadata": {},
   "outputs": [],
   "source": []
  }
 ],
 "metadata": {
  "kernelspec": {
   "display_name": "Python 3",
   "language": "python",
   "name": "python3"
  },
  "language_info": {
   "codemirror_mode": {
    "name": "ipython",
    "version": 3
   },
   "file_extension": ".py",
   "mimetype": "text/x-python",
   "name": "python",
   "nbconvert_exporter": "python",
   "pygments_lexer": "ipython3",
   "version": "3.8.5"
  }
 },
 "nbformat": 4,
 "nbformat_minor": 2
}
