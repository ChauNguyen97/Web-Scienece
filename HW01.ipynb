{
 "cells": [
  {
   "cell_type": "code",
   "execution_count": 1,
   "metadata": {},
   "outputs": [
    {
     "name": "stdout",
     "output_type": "stream",
     "text": [
      "Requirement already satisfied: selenium in d:\\programdata\\anaconda3\\lib\\site-packages (3.141.0)\n",
      "Requirement already satisfied: urllib3 in d:\\programdata\\anaconda3\\lib\\site-packages (from selenium) (1.24.2)\n",
      "Requirement already satisfied: html5lib in d:\\programdata\\anaconda3\\lib\\site-packages (1.0.1)\n",
      "Requirement already satisfied: webencodings in d:\\programdata\\anaconda3\\lib\\site-packages (from html5lib) (0.5.1)\n",
      "Requirement already satisfied: six>=1.9 in c:\\users\\fairytea\\appdata\\roaming\\python\\python37\\site-packages (from html5lib) (1.12.0)\n",
      "Requirement already satisfied: python-csv in d:\\programdata\\anaconda3\\lib\\site-packages (0.0.13)\n",
      "Requirement already satisfied: jtutils in d:\\programdata\\anaconda3\\lib\\site-packages (from python-csv) (0.0.8)\n",
      "Requirement already satisfied: xlrd in d:\\programdata\\anaconda3\\lib\\site-packages (from python-csv) (1.2.0)\n",
      "Requirement already satisfied: matplotlib in d:\\programdata\\anaconda3\\lib\\site-packages (from python-csv) (3.1.1)\n",
      "Requirement already satisfied: demjson in d:\\programdata\\anaconda3\\lib\\site-packages (from python-csv) (2.2.4)\n",
      "Requirement already satisfied: xmltodict in d:\\programdata\\anaconda3\\lib\\site-packages (from python-csv) (0.12.0)\n",
      "Requirement already satisfied: leven in d:\\programdata\\anaconda3\\lib\\site-packages (from python-csv) (1.0.4)\n",
      "Requirement already satisfied: pandas in d:\\programdata\\anaconda3\\lib\\site-packages (from python-csv) (0.25.1)\n",
      "Requirement already satisfied: numpy in d:\\programdata\\anaconda3\\lib\\site-packages (from python-csv) (1.16.5)\n",
      "Requirement already satisfied: argparse in d:\\programdata\\anaconda3\\lib\\site-packages (from python-csv) (1.4.0)\n",
      "Requirement already satisfied: beautifulsoup4 in d:\\programdata\\anaconda3\\lib\\site-packages (from jtutils->python-csv) (4.8.0)\n",
      "Requirement already satisfied: selenium in d:\\programdata\\anaconda3\\lib\\site-packages (from jtutils->python-csv) (3.141.0)\n",
      "Requirement already satisfied: requests in d:\\programdata\\anaconda3\\lib\\site-packages (from jtutils->python-csv) (2.22.0)\n",
      "Requirement already satisfied: cycler>=0.10 in d:\\programdata\\anaconda3\\lib\\site-packages (from matplotlib->python-csv) (0.10.0)\n",
      "Requirement already satisfied: kiwisolver>=1.0.1 in d:\\programdata\\anaconda3\\lib\\site-packages (from matplotlib->python-csv) (1.1.0)\n",
      "Requirement already satisfied: pyparsing!=2.0.4,!=2.1.2,!=2.1.6,>=2.0.1 in d:\\programdata\\anaconda3\\lib\\site-packages (from matplotlib->python-csv) (2.4.2)\n",
      "Requirement already satisfied: python-dateutil>=2.1 in d:\\programdata\\anaconda3\\lib\\site-packages (from matplotlib->python-csv) (2.8.0)\n",
      "Requirement already satisfied: six in c:\\users\\fairytea\\appdata\\roaming\\python\\python37\\site-packages (from leven->python-csv) (1.12.0)\n",
      "Requirement already satisfied: nose in d:\\programdata\\anaconda3\\lib\\site-packages (from leven->python-csv) (1.3.7)\n",
      "Requirement already satisfied: pytz>=2017.2 in d:\\programdata\\anaconda3\\lib\\site-packages (from pandas->python-csv) (2019.3)\n",
      "Requirement already satisfied: soupsieve>=1.2 in d:\\programdata\\anaconda3\\lib\\site-packages (from beautifulsoup4->jtutils->python-csv) (1.9.3)\n",
      "Requirement already satisfied: urllib3 in d:\\programdata\\anaconda3\\lib\\site-packages (from selenium->jtutils->python-csv) (1.24.2)\n",
      "Requirement already satisfied: certifi>=2017.4.17 in d:\\programdata\\anaconda3\\lib\\site-packages (from requests->jtutils->python-csv) (2019.9.11)\n",
      "Requirement already satisfied: chardet<3.1.0,>=3.0.2 in d:\\programdata\\anaconda3\\lib\\site-packages (from requests->jtutils->python-csv) (3.0.4)\n",
      "Requirement already satisfied: idna<2.9,>=2.5 in d:\\programdata\\anaconda3\\lib\\site-packages (from requests->jtutils->python-csv) (2.8)\n",
      "Requirement already satisfied: setuptools in d:\\programdata\\anaconda3\\lib\\site-packages (from kiwisolver>=1.0.1->matplotlib->python-csv) (41.4.0)\n"
     ]
    }
   ],
   "source": [
    "!pip install selenium\n",
    "!pip install html5lib\n",
    "!pip install python-csv"
   ]
  },
  {
   "cell_type": "code",
   "execution_count": 5,
   "metadata": {},
   "outputs": [],
   "source": [
    "# Thêm thư viện cho project\n",
    "from selenium import webdriver\n",
    "from selenium.webdriver.common.keys import Keys\n",
    "from time import sleep\n",
    "from bs4 import BeautifulSoup\n",
    "from config_repository import ConfigRepository"
   ]
  },
  {
   "cell_type": "code",
   "execution_count": null,
   "metadata": {},
   "outputs": [],
   "source": [
    "URL = 'https://www.imdb.com'\n",
    "anime_name = 'anime'\n",
    "\n",
    "# Thao tác trên webdriver\n",
    "driver = webdriver.Chrome(executable_path='chromedriver.exe')\n",
    "driver.get(URL)\n",
    "driver.maximize_window()\n",
    "sleep(3)\n",
    "\n",
    "search_input = browser.find_element_by_id('suggestion-search')\n",
    "search_input.send_keys(anime_name)\n",
    "search_keyword = browser.find_element_by_css_selector('#nav-search-form > div.SearchCategorySelector__StyledContainer-sc-18f40f7-0.fEgMct.search-category-selector > div > label > div')\n",
    "search_keyword.click()\n",
    "sleep(3)\n",
    "\n",
    "search_keyword = browser.find_element_by_xpath('//*[@id=\"navbar-search-category-select-contents\"]/ul/a[6]')\n",
    "search_keyword.click()\n",
    "search_keyword = browser.find_element_by_id('suggestion-search-button')\n",
    "search_keyword.click()\n",
    "sleep(3)\n",
    "\n",
    "submit_element = browser.find_element_by_css_selector('#main > div > div.findSection > table > tbody > tr:nth-child(1) > td > a')\n",
    "submit_element.click()\n",
    "sleep(3)\n",
    "\n",
    "# Lấy link để lấy dữ liệu\n",
    "page_source = BeautifulSoup(driver.page_source, 'html.parser')\n",
    "list_anime = page_source.find_all('h3', class_='lister-item-header')\n",
    "records = [] \n",
    "for anime in list_anime:\n",
    "    name = anime.find('a', href=True)\n",
    "    anime_id = name.get('href')\n",
    "    anime_links = URL + anime_id\n",
    "    records.append(anime_links)\n",
    "print(records)"
   ]
  },
  {
   "cell_type": "code",
   "execution_count": 16,
   "metadata": {},
   "outputs": [],
   "source": [
    "url = \"https://www.imdb.com/search/keyword/?keywords=anime\"\n",
    "URL = 'https://www.imdb.com'\n",
    "driver = webdriver.Chrome(executable_path='chromedriver.exe')\n",
    "driver.get(url)\n",
    "driver.maximize_window()\n",
    "sleep(3)"
   ]
  },
  {
   "cell_type": "code",
   "execution_count": 24,
   "metadata": {},
   "outputs": [
    {
     "name": "stdout",
     "output_type": "stream",
     "text": [
      "[('Attack on Titan', 'https://www.imdb.com/title/tt2560140/?ref_=kw_li_i', 'https://m.media-amazon.com/images/M/MV5BMTY5ODk1NzUyMl5BMl5BanBnXkFtZTgwMjUyNzEyMTE@._V1_UX140_CR0,0,140,209_AL_.jpg'), ('Demon Slayer: Kimetsu no Yaiba', 'https://www.imdb.com/title/tt9335498/?ref_=kw_li_i', 'https://m.media-amazon.com/images/M/MV5BZjZjNzI5MDctY2Y4YS00NmM4LTljMmItZTFkOTExNGI3ODRhXkEyXkFqcGdeQXVyNjc3MjQzNTI@._V1_UY209_CR5,0,140,209_AL_.jpg'), ('One Piece', 'https://www.imdb.com/title/tt0388629/?ref_=kw_li_i', 'https://m.media-amazon.com/images/M/MV5BODcwNWE3OTMtMDc3MS00NDFjLWE1OTAtNDU3NjgxODMxY2UyXkEyXkFqcGdeQXVyNTAyODkwOQ@@._V1_UX140_CR0,0,140,209_AL_.jpg'), ('Star Wars: Visions', 'https://www.imdb.com/title/tt13622982/?ref_=kw_li_i', 'https://m.media-amazon.com/images/M/MV5BNWJiMDA4OTEtOGU0MC00ZDc5LWE5NWItNWVhMTlhNDliMjc4XkEyXkFqcGdeQXVyMTEyMjM2NDc2._V1_UY209_CR13,0,140,209_AL_.jpg'), ('My Hero Academia', 'https://www.imdb.com/title/tt5626028/?ref_=kw_li_i', 'https://m.media-amazon.com/images/M/MV5BNmQzYmE2MGEtZjk4YS00YmVjLWEwZWMtODRkMjc4MTM5N2I3XkEyXkFqcGdeQXVyNTAyODkwOQ@@._V1_UY209_CR13,0,140,209_AL_.jpg'), ('Boruto: Naruto Next Generations', 'https://www.imdb.com/title/tt6342474/?ref_=kw_li_i', 'https://m.media-amazon.com/images/M/MV5BYjM0MDRkYzctMTNhMS00ODYwLTgwMWItZDYxNDlhOGY1YjRlXkEyXkFqcGdeQXVyMzExMzk5MTQ@._V1_UY209_CR4,0,140,209_AL_.jpg'), ('Naruto: Shippûden', 'https://www.imdb.com/title/tt0988824/?ref_=kw_li_i', 'https://m.media-amazon.com/images/M/MV5BMTE5NzIwMGUtYTE1MS00MDUxLTgyZjctOWVkZDAxM2M4ZWQ4XkEyXkFqcGdeQXVyNjc2NjA5MTU@._V1_UX140_CR0,0,140,209_AL_.jpg'), ('Demon Slayer: Mugen Train', 'https://www.imdb.com/title/tt11032374/?ref_=kw_li_i', 'https://m.media-amazon.com/images/M/MV5BODI2NjdlYWItMTE1ZC00YzI2LTlhZGQtNzE3NzA4MWM0ODYzXkEyXkFqcGdeQXVyNjU1OTg4OTM@._V1_UX140_CR0,0,140,209_AL_.jpg'), ('Pokémon the Movie: Secrets of the Jungle', 'https://www.imdb.com/title/tt11819890/?ref_=kw_li_i', 'https://m.media-amazon.com/images/M/MV5BMTRmOGE4ZTgtODc5YS00YTdmLWJjZDUtNWExODA5NTgyNGY3XkEyXkFqcGdeQXVyNzYzNjg0NDk@._V1_UY209_CR4,0,140,209_AL_.jpg'), ('Tokyo Revengers', 'https://www.imdb.com/title/tt13196080/?ref_=kw_li_i', 'https://m.media-amazon.com/images/M/MV5BNTVkMzRlYmMtYzc1Ny00YTQ5LWI5ZTAtNTk3YmYxOWYwZGVlXkEyXkFqcGdeQXVyOTc4OTAwMjU@._V1_UY209_CR3,0,140,209_AL_.jpg'), ('Death Note', 'https://www.imdb.com/title/tt0877057/?ref_=kw_li_i', 'https://m.media-amazon.com/images/M/MV5BODkzMjhjYTQtYmQyOS00NmZlLTg3Y2UtYjkzN2JkNmRjY2FhXkEyXkFqcGdeQXVyNTM4MDQ5MDc@._V1_UY209_CR2,0,140,209_AL_.jpg'), ('Naruto', 'https://www.imdb.com/title/tt0409591/?ref_=kw_li_i', 'https://m.media-amazon.com/images/M/MV5BZmQ5NGFiNWEtMmMyMC00MDdiLTg4YjktOGY5Yzc2MDUxMTE1XkEyXkFqcGdeQXVyNTA4NzY1MzY@._V1_UY209_CR1,0,140,209_AL_.jpg'), ('Hunter x Hunter', 'https://www.imdb.com/title/tt2098220/?ref_=kw_li_i', 'https://m.media-amazon.com/images/M/MV5BZjNmZDhkN2QtNDYyZC00YzJmLTg0ODUtN2FjNjhhMzE3ZmUxXkEyXkFqcGdeQXVyNjc2NjA5MTU@._V1_UX140_CR0,0,140,209_AL_.jpg'), ('Spirited Away', 'https://www.imdb.com/title/tt0245429/?ref_=kw_li_i', 'https://m.media-amazon.com/images/M/MV5BMjlmZmI5MDctNDE2YS00YWE0LWE5ZWItZDBhYWQ0NTcxNWRhXkEyXkFqcGdeQXVyMTMxODk2OTU@._V1_UY209_CR0,0,140,209_AL_.jpg'), ('Jujutsu Kaisen', 'https://www.imdb.com/title/tt12343534/?ref_=kw_li_i', 'https://m.media-amazon.com/images/M/MV5BNzQyYzU3Y2MtOWY2Yy00ZGM2LTg3ZTUtMDJkZTJiMmEzMjYxXkEyXkFqcGdeQXVyMTI2NTY3NDg5._V1_UY209_CR13,0,140,209_AL_.jpg'), ('Castlevania', 'https://www.imdb.com/title/tt6517102/?ref_=kw_li_i', 'https://m.media-amazon.com/images/M/MV5BYWUwN2UwYTktMDk4OC00YTg0LThmNTItNWE3ZjQxOTIxZTg3XkEyXkFqcGdeQXVyNTE1NjY5Mg@@._V1_UX140_CR0,0,140,209_AL_.jpg'), ('Black Clover', 'https://www.imdb.com/title/tt7441658/?ref_=kw_li_i', 'https://m.media-amazon.com/images/M/MV5BNTAzYTlkMWEtOTNjZC00ZDU0LWI5ODUtYTRmYzY0MTAzYWZlXkEyXkFqcGdeQXVyMzgxODM4NjM@._V1_UX140_CR0,0,140,209_AL_.jpg'), ('Fullmetal Alchemist: Brotherhood', 'https://www.imdb.com/title/tt1355642/?ref_=kw_li_i', 'https://m.media-amazon.com/images/M/MV5BZmEzN2YzOTItMDI5MS00MGU4LWI1NWQtOTg5ZThhNGQwYTEzXkEyXkFqcGdeQXVyNTA4NzY1MzY@._V1_UY209_CR4,0,140,209_AL_.jpg'), (\"JoJo's Bizarre Adventure\", 'https://www.imdb.com/title/tt2359704/?ref_=kw_li_i', 'https://m.media-amazon.com/images/M/MV5BZDc3NGQ3ZWQtYjNkOC00MjhiLTg2N2YtNmZlOGNiZTFkOWNhXkEyXkFqcGdeQXVyNjc2NjA5MTU@._V1_UY209_CR3,0,140,209_AL_.jpg'), ('Cowboy Bebop', 'https://www.imdb.com/title/tt0213338/?ref_=kw_li_i', 'https://m.media-amazon.com/images/M/MV5BNGNlNjBkODEtZThlOC00YzUxLWI0MjMtMjk3YzJmMDFlNWZlXkEyXkFqcGdeQXVyNjI0MDg2NzE@._V1_UX140_CR0,0,140,209_AL_.jpg'), ('One Punch Man', 'https://www.imdb.com/title/tt4508902/?ref_=kw_li_i', 'https://m.media-amazon.com/images/M/MV5BMTNmZDE2NDEtNTg3MS00OTE1LThlZGUtOGZkZTg0NTUyNGVmXkEyXkFqcGdeQXVyNTgyNTA4MjM@._V1_UX140_CR0,0,140,209_AL_.jpg'), (\"My Hero Academia: World Heroes' Mission\", 'https://www.imdb.com/title/tt13544716/?ref_=kw_li_i', 'https://m.media-amazon.com/images/M/MV5BNTBhYjYzZjEtOTU0OC00N2Q3LTgzYzgtNTk2NDRmNzZhMjFmXkEyXkFqcGdeQXVyNTkyODc5MjA@._V1_UX140_CR0,0,140,209_AL_.jpg'), ('Your Name.', 'https://www.imdb.com/title/tt5311514/?ref_=kw_li_i', 'https://m.media-amazon.com/images/M/MV5BODRmZDVmNzUtZDA4ZC00NjhkLWI2M2UtN2M0ZDIzNDcxYThjL2ltYWdlXkEyXkFqcGdeQXVyNTk0MzMzODA@._V1_UY209_CR0,0,140,209_AL_.jpg'), ('The Witcher: Nightmare of the Wolf', 'https://www.imdb.com/title/tt11657662/?ref_=kw_li_i', 'https://m.media-amazon.com/images/M/MV5BY2IwNjM0ODktYTZkNy00ZTA0LWEzMWYtMDE3ZDg0YmI3YzQ3XkEyXkFqcGdeQXVyMTEzMTI1Mjk3._V1_UY209_CR0,0,140,209_AL_.jpg'), ('The Seven Deadly Sins', 'https://www.imdb.com/title/tt3909224/?ref_=kw_li_i', 'https://m.media-amazon.com/images/M/MV5BM2VmODMyZTUtOWFkNC00OGI5LTg5NjEtMjFiMjU0MDQxMDcyXkEyXkFqcGdeQXVyMTI2NTY3NDg5._V1_UY209_CR2,0,140,209_AL_.jpg'), ('Baki Hanma', 'https://www.imdb.com/title/tt13357140/?ref_=kw_li_i', 'https://m.media-amazon.com/images/M/MV5BOWI2ZjAzZTktYjYxNC00NzM1LThmMzEtZTJhMjBmMGIzNzgyXkEyXkFqcGdeQXVyMTEzMTI1Mjk3._V1_UY209_CR4,0,140,209_AL_.jpg'), (\"Howl's Moving Castle\", 'https://www.imdb.com/title/tt0347149/?ref_=kw_li_i', 'https://m.media-amazon.com/images/M/MV5BNmM4YTFmMmItMGE3Yy00MmRkLTlmZGEtMzZlOTQzYjk3MzA2XkEyXkFqcGdeQXVyMTMxODk2OTU@._V1_UX140_CR0,0,140,209_AL_.jpg'), ('Haikyuu!!', 'https://www.imdb.com/title/tt3398540/?ref_=kw_li_i', 'https://m.media-amazon.com/images/M/MV5BNzQ1MmJjZDUtMmI5OC00ZDk2LThkODQtODgwYmU0MTIzNDhmXkEyXkFqcGdeQXVyNDgyODgxNjE@._V1_UX140_CR0,0,140,209_AL_.jpg'), ('High School DxD', 'https://www.imdb.com/title/tt2230051/?ref_=kw_li_i', 'https://m.media-amazon.com/images/M/MV5BYjhlYWI2MGUtNjk4ZS00OWJjLWJiZTEtYWYxNTY5MzVhYzI0XkEyXkFqcGdeQXVyNDgyODgxNjE@._V1_UY209_CR1,0,140,209_AL_.jpg'), ('Takt Op. Destiny', 'https://www.imdb.com/title/tt14935960/?ref_=kw_li_i', 'https://m.media-amazon.com/images/M/MV5BMjU2YTg2MjgtODk0ZC00NGI4LWJmZmItNmM2MDkwYzQ4YTBhXkEyXkFqcGdeQXVyMzgxODM4NjM@._V1_UX140_CR0,0,140,209_AL_.jpg'), ('Bright: Samurai Soul', 'https://www.imdb.com/title/tt14837960/?ref_=kw_li_i', 'https://m.media-amazon.com/images/M/MV5BYjVhN2Y2OGUtOTg3Mi00MjUyLWE2YWUtMmIxZGU1YTRjZGUwXkEyXkFqcGdeQXVyMTEzMTI1Mjk3._V1_UY209_CR0,0,140,209_AL_.jpg'), ('Mushoku Tensei: Jobless Reincarnation', 'https://www.imdb.com/title/tt13293588/?ref_=kw_li_i', 'https://m.media-amazon.com/images/M/MV5BOWI2MWZhNDgtNzhjYy00NDE4LTllMzEtZTIzZGQ3MWQ2MGY5XkEyXkFqcGdeQXVyMzgxODM4NjM@._V1_UY209_CR4,0,140,209_AL_.jpg'), ('Vinland Saga', 'https://www.imdb.com/title/tt10233448/?ref_=kw_li_i', 'https://m.media-amazon.com/images/M/MV5BNmI5YzY1ZmYtZDczNS00NWNiLTk3ZjItMGVkZDllZDJhYTNkXkEyXkFqcGdeQXVyODEyMDIxNDY@._V1_UY209_CR4,0,140,209_AL_.jpg'), ('Baki', 'https://www.imdb.com/title/tt6357658/?ref_=kw_li_i', 'https://m.media-amazon.com/images/M/MV5BMmQxZmRmNmUtZWUxNi00NzhiLWEwNzEtZTUyZWRhOWY5Yjg2XkEyXkFqcGdeQXVyMTAwMzM3NDI3._V1_UY209_CR1,0,140,209_AL_.jpg'), ('Masters of the Universe: Revelation', 'https://www.imdb.com/title/tt10826054/?ref_=kw_li_i', 'https://m.media-amazon.com/images/M/MV5BMjRkNmE0NTYtN2IzNi00MzFiLTgzMDMtYjU0OTUyMzM4Njc2XkEyXkFqcGdeQXVyMTkxNjUyNQ@@._V1_UY209_CR0,0,140,209_AL_.jpg'), ('Blue Period', 'https://www.imdb.com/title/tt14115912/?ref_=kw_li_i', 'https://m.media-amazon.com/images/M/MV5BOTk5NTQ5YWEtNmUzNS00NGIwLWJhNzQtYTViNzAxNGVkYjUwXkEyXkFqcGdeQXVyMzgxODM4NjM@._V1_UX140_CR0,0,140,209_AL_.jpg'), ('Violet Evergarden', 'https://www.imdb.com/title/tt7078180/?ref_=kw_li_i', 'https://m.media-amazon.com/images/M/MV5BZmUzMThjOTItZGY4ZS00ODcwLTliNTMtYjVkM2JmY2QxNmRhXkEyXkFqcGdeQXVyMzgxODM4NjM@._V1_UY209_CR1,0,140,209_AL_.jpg'), ('Bleach', 'https://www.imdb.com/title/tt0434665/?ref_=kw_li_i', 'https://m.media-amazon.com/images/M/MV5BZjE0YjVjODQtZGY2NS00MDcyLThhMDAtZGQwMTZiOWNmNjRiXkEyXkFqcGdeQXVyNTA4NzY1MzY@._V1_UX140_CR0,0,140,209_AL_.jpg'), ('Grave of the Fireflies', 'https://www.imdb.com/title/tt0095327/?ref_=kw_li_i', 'https://m.media-amazon.com/images/M/MV5BZmY2NjUzNDQtNTgxNC00M2Q4LTljOWQtMjNjNDBjNWUxNmJlXkEyXkFqcGdeQXVyNTA4NzY1MzY@._V1_UX140_CR0,0,140,209_AL_.jpg'), ('Dragon Ball Z', 'https://www.imdb.com/title/tt0214341/?ref_=kw_li_i', 'https://m.media-amazon.com/images/M/MV5BNGM5MTEyZDItZWNhOS00NzNkLTgwZTAtNWIzY2IzZmExOWMxXkEyXkFqcGdeQXVyNTA4NzY1MzY@._V1_UY209_CR3,0,140,209_AL_.jpg'), ('Pokémon', 'https://www.imdb.com/title/tt0168366/?ref_=kw_li_i', 'https://m.media-amazon.com/images/M/MV5BNjU1YjM2YzAtZWE2Ny00ZWNiLWFkZWItMDJhMzJiNDQwMmI4XkEyXkFqcGdeQXVyNTU1MjgyMjk@._V1_UY209_CR4,0,140,209_AL_.jpg'), ('Princess Mononoke', 'https://www.imdb.com/title/tt0119698/?ref_=kw_li_i', 'https://m.media-amazon.com/images/M/MV5BNGIzY2IzODQtNThmMi00ZDE4LWI5YzAtNzNlZTM1ZjYyYjUyXkEyXkFqcGdeQXVyODEzNjM5OTQ@._V1_UX140_CR0,0,140,209_AL_.jpg'), ('Neon Genesis Evangelion', 'https://www.imdb.com/title/tt0112159/?ref_=kw_li_i', 'https://m.media-amazon.com/images/M/MV5BYjY1Y2ZmNDctZWQ3Yy00MTE3LTk2M2QtMjQ0MDA5ODVjMDEyXkEyXkFqcGdeQXVyNTA4NzY1MzY@._V1_UY209_CR1,0,140,209_AL_.jpg'), ('Gintama', 'https://www.imdb.com/title/tt0988818/?ref_=kw_li_i', 'https://m.media-amazon.com/images/M/MV5BMDkxZTJjZTEtMDRjMy00Yzk1LWI5YjItMjIwYmVlYzhlZWZhXkEyXkFqcGdeQXVyNDQxNjcxNQ@@._V1_UX140_CR0,0,140,209_AL_.jpg'), ('Code Geass', 'https://www.imdb.com/title/tt0994314/?ref_=kw_li_i', 'https://m.media-amazon.com/images/M/MV5BYmEyM2VlZWItNWY4Ni00YmY2LWE3YTAtYjljMmU1MWEyYmZiXkEyXkFqcGdeQXVyNTA4NzY1MzY@._V1_UY209_CR6,0,140,209_AL_.jpg'), ('The Promised Neverland', 'https://www.imdb.com/title/tt8788458/?ref_=kw_li_i', 'https://m.media-amazon.com/images/M/MV5BMTYwYjYyZDgtMTQ3My00YTI4LThmZTUtZmU1MjllOWRlOTdhXkEyXkFqcGdeQXVyMzgxODM4NjM@._V1_UX140_CR0,0,140,209_AL_.jpg'), ('A Silent Voice: The Movie', 'https://www.imdb.com/title/tt5323662/?ref_=kw_li_i', 'https://m.media-amazon.com/images/M/MV5BZGRkOGMxYTUtZTBhYS00NzI3LWEzMDQtOWRhMmNjNjJjMzM4XkEyXkFqcGdeQXVyMTMxODk2OTU@._V1_UY209_CR2,0,140,209_AL_.jpg'), ('Tokyo Ghoul', 'https://www.imdb.com/title/tt3741634/?ref_=kw_li_i', 'https://m.media-amazon.com/images/M/MV5BN2E2OTgzODktMjBhYy00MjJjLWI0OTgtNGYxOGNhMWMxOWE4XkEyXkFqcGdeQXVyMzgxODM4NjM@._V1_UY209_CR4,0,140,209_AL_.jpg'), ('Belle: The Dragon and the Freckled Princess', 'https://www.imdb.com/title/tt13651628/?ref_=kw_li_i', 'https://m.media-amazon.com/images/M/MV5BYzA0YzRjOTMtY2RiNC00ZGFmLTg5YjItNGJmODY2YzM1N2I5XkEyXkFqcGdeQXVyNjc3MjQzNTI@._V1_UY209_CR4,0,140,209_AL_.jpg'), ('Berserk', 'https://www.imdb.com/title/tt0318871/?ref_=kw_li_i', 'https://m.media-amazon.com/images/M/MV5BYWE1YTU4NmYtMTY2Ni00NDIxLTgwMzYtNWJjYWE4MDE5OTE1XkEyXkFqcGdeQXVyNjc2NjA5MTU@._V1_UY209_CR5,0,140,209_AL_.jpg')]\n"
     ]
    }
   ],
   "source": [
    "page_source = BeautifulSoup(driver.page_source, 'html.parser')\n",
    "configRepository = ConfigRepository()\n",
    "pattern = configRepository.getPatternByUrl(url)\n",
    "# Get anime(name, link, image)\n",
    "list_records = page_source.find_all( class_ = pattern['list'])\n",
    "records = [] \n",
    "for record in list_records:\n",
    "    temp_id = record.find(pattern['link'], href=True)\n",
    "    id = temp_id.get('href')\n",
    "    anime_links = URL + id\n",
    "    temp_name = record.find('img', alt=True)\n",
    "    name = temp_name.get('alt')\n",
    "    temp_img = record.find('img', src=True)\n",
    "    image = temp_img.get('src')\n",
    "    \n",
    "    records.append((name, anime_links, image),)\n",
    "print(records)"
   ]
  },
  {
   "cell_type": "code",
   "execution_count": null,
   "metadata": {},
   "outputs": [],
   "source": []
  },
  {
   "cell_type": "code",
   "execution_count": null,
   "metadata": {},
   "outputs": [],
   "source": []
  }
 ],
 "metadata": {
  "interpreter": {
   "hash": "73e03da126b73bfff3642ec5261d56fa25c444ea595de51041687efaa60dda41"
  },
  "kernelspec": {
   "display_name": "Python 3.7.4 64-bit ('base': conda)",
   "name": "python3"
  },
  "language_info": {
   "codemirror_mode": {
    "name": "ipython",
    "version": 3
   },
   "file_extension": ".py",
   "mimetype": "text/x-python",
   "name": "python",
   "nbconvert_exporter": "python",
   "pygments_lexer": "ipython3",
   "version": "3.7.4"
  }
 },
 "nbformat": 4,
 "nbformat_minor": 2
}
