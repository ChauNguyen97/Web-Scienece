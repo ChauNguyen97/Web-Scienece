{
 "cells": [
  {
   "cell_type": "code",
   "execution_count": null,
   "metadata": {},
   "outputs": [],
   "source": [
    "!pip install selenium\n",
    "!pip install html5lib\n",
    "!pip install python-csv"
   ]
  },
  {
   "cell_type": "code",
   "execution_count": null,
   "metadata": {},
   "outputs": [],
   "source": [
    "class Anime:\n",
    "    def __init__(self):\n",
    "        self._name = ''\n",
    "        self._release = ''\n",
    "        self._imdb = ''\n",
    "        self._votes = ''\n",
    "        self._detail = ''\n",
    "        self._image = ''\n",
    "    \n",
    "    def getAnime(self, temp):\n",
    "        temp.append(self._name)\n",
    "        temp.append(self._release)\n",
    "        temp.append(self._imdb)\n",
    "        temp.append(self._votes)\n",
    "        temp.append(self._detail)\n",
    "        temp.append(self._image)\n",
    "        \n",
    "\n",
    "    # def setData(self, name, release, imdb, votes, detail, image):\n",
    "    #     self._name = name\n",
    "    #     self._release= release\n",
    "    #     self._imdb = imdb\n",
    "    #     self._votes = votes\n",
    "    #     self._detail = detail\n",
    "    #     self._image = image\n"
   ]
  },
  {
   "cell_type": "code",
   "execution_count": null,
   "metadata": {},
   "outputs": [],
   "source": [
    "# Thêm thư viện cho project\n",
    "from urllib.parse import urlparse\n",
    "from selenium import webdriver\n",
    "from selenium.webdriver.common.keys import Keys\n",
    "from time import sleep\n",
    "from bs4 import BeautifulSoup\n",
    "from config_repository import ConfigRepository\n",
    "import pandas as pd\n"
   ]
  },
  {
   "cell_type": "code",
   "execution_count": null,
   "metadata": {},
   "outputs": [],
   "source": [
    "url = 'https://www.imdb.com/search/keyword/?keywords=anime'\n",
    "url = 'https://myanimelist.net/topanime.php'\n",
    "domain = urlparse(url).netloc\n",
    "driver = webdriver.Chrome(executable_path='chromedriver.exe')\n",
    "driver.get(url)\n",
    "driver.maximize_window()\n",
    "sleep(3)\n",
    "page_source = BeautifulSoup(driver.page_source, \"html.parser\")"
   ]
  },
  {
   "cell_type": "code",
   "execution_count": null,
   "metadata": {},
   "outputs": [],
   "source": [
    "# domain = urlparse('search/keyword/?keywords=anime').netloc\n",
    "\n",
    "# if domain:\n",
    "#     print(domain)\n",
    "# else: print('no domain')"
   ]
  },
  {
   "cell_type": "code",
   "execution_count": null,
   "metadata": {},
   "outputs": [],
   "source": [
    "def getDataInPage(page_source):\n",
    "\n",
    "    cfs = ConfigRepository()\n",
    "    pattern = cfs.getPatternByUrl(url)\n",
    "    list_records = page_source.select(pattern[\"list\"])\n",
    "    anime = Anime()\n",
    "    records = []\n",
    "    temp = []\n",
    "    for record in list_records:\n",
    "        anime._name = record.select_one(pattern[\"title\"]).text\n",
    "        # print(anime._name)\n",
    "        subdomain = record.select_one(pattern[\"title\"])[\"href\"]\n",
    "        if urlparse(subdomain).netloc:\n",
    "            anime._detail = subdomain\n",
    "        else:\n",
    "            anime._detail = domain + subdomain\n",
    "        # print(anime._detail)\n",
    "        anime._imdb = record.select_one(pattern[\"imdb\"]).text.split()\n",
    "    # print(anime._imdb)\n",
    "        votes = record.select_one(pattern[\"votes\"]).text.split()\n",
    "        if len(votes) > 1:\n",
    "            anime._votes = votes[pattern[\"index-votes\"]]\n",
    "        else:\n",
    "            anime._votes = votes\n",
    "    # print(anime._votes)\n",
    "        release = record.select_one(pattern[\"release\"]).text.split()\n",
    "    # print(release)\n",
    "        if len(release) > 2:\n",
    "            anime._release = (\n",
    "                release[pattern[\"index-release-start\"]]\n",
    "                + \" - \"\n",
    "                + release[pattern[\"index-release-end\"]]\n",
    "            )\n",
    "        else:\n",
    "            anime._release = record.select_one(pattern[\"release\"]).text\n",
    "    # print(anime._release)\n",
    "        anime._image = record.select_one(pattern[\"thumbnail\"])[pattern[\"get-thumbnail\"]]\n",
    "\n",
    "        anime.getAnime(temp)\n",
    "        records.append(temp)\n",
    "    # print(records)\n",
    "    return records\n",
    "\n",
    "\n"
   ]
  }
 ],
 "metadata": {
  "interpreter": {
   "hash": "73e03da126b73bfff3642ec5261d56fa25c444ea595de51041687efaa60dda41"
  },
  "kernelspec": {
   "display_name": "Python 3",
   "language": "python",
   "name": "python3"
  },
  "language_info": {
   "codemirror_mode": {
    "name": "ipython",
    "version": 3
   },
   "file_extension": ".py",
   "mimetype": "text/x-python",
   "name": "python",
   "nbconvert_exporter": "python",
   "pygments_lexer": "ipython3",
   "version": "3.7.4"
  }
 },
 "nbformat": 4,
 "nbformat_minor": 2
}
