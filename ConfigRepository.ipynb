{
 "cells": [
  {
   "cell_type": "code",
   "execution_count": 2,
   "metadata": {},
   "outputs": [],
   "source": [
    "import pandas as pd\n",
    "import json"
   ]
  },
  {
   "cell_type": "code",
   "execution_count": 3,
   "metadata": {},
   "outputs": [],
   "source": [
    "class ConfigRepository:\n",
    "    \n",
    "    def __init__(self):\n",
    "        with open('config.json') as f:\n",
    "            self._pattern = json.load(f)\n",
    "            \n",
    "            \n",
    "    def getPatternByUrl(self, url):\n",
    "        for key in self._pattern.keys():\n",
    "            if url.find(key) != -1:\n",
    "                return self._pattern[key];\n",
    "        return {}"
   ]
  },
  {
   "cell_type": "code",
   "execution_count": 4,
   "metadata": {},
   "outputs": [
    {
     "name": "stdout",
     "output_type": "stream",
     "text": [
      "{'list': '.lister .lister-list .lister-item', 'thumbnail': 'img', 'title': 'a', 'imdb': '.ratings-imdb-rating', 'votes': \"span[name='nv']\", 'release': '.lister-item-year', 'link': 'a'}\n",
      "\n",
      "Pattern list: .lister .lister-list .lister-item\n",
      "Pattern title: a\n"
     ]
    }
   ],
   "source": [
    "# example\n",
    "url = \"https://www.imdb.com/search/keyword/?keywords=anime\"\n",
    "configRepository = ConfigRepository()\n",
    "pattern = configRepository.getPatternByUrl(url)\n",
    "print(pattern)\n",
    "\n",
    "if not pattern:\n",
    "    print('Crawler failed')\n",
    "else:\n",
    "    print(\"\\nPattern list: \" + pattern['list'])\n",
    "    print(\"Pattern title: \" + pattern['title'])"
   ]
  },
  {
   "cell_type": "code",
   "execution_count": null,
   "metadata": {},
   "outputs": [],
   "source": [
    "\n"
   ]
  },
  {
   "cell_type": "code",
   "execution_count": null,
   "metadata": {},
   "outputs": [],
   "source": []
  }
 ],
 "metadata": {
  "kernelspec": {
   "display_name": "Python 3",
   "language": "python",
   "name": "python3"
  },
  "language_info": {
   "codemirror_mode": {
    "name": "ipython",
    "version": 3
   },
   "file_extension": ".py",
   "mimetype": "text/x-python",
   "name": "python",
   "nbconvert_exporter": "python",
   "pygments_lexer": "ipython3",
   "version": "3.7.4"
  }
 },
 "nbformat": 4,
 "nbformat_minor": 4
}
